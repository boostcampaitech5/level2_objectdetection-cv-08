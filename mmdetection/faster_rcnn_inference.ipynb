{
 "cells": [
  {
   "cell_type": "code",
   "execution_count": 1,
   "id": "3fd75793",
   "metadata": {},
   "outputs": [
    {
     "name": "stderr",
     "output_type": "stream",
     "text": [
      "/opt/conda/envs/det/lib/python3.9/site-packages/mmcv/__init__.py:20: UserWarning: On January 1, 2023, MMCV will release v2.0.0, in which it will remove components related to the training process and add a data transformation module. In addition, it will rename the package names mmcv to mmcv-lite and mmcv-full to mmcv. See https://github.com/open-mmlab/mmcv/blob/master/docs/en/compatibility.md for more details.\n",
      "  warnings.warn(\n"
     ]
    }
   ],
   "source": [
    "import mmcv\n",
    "from mmcv import Config\n",
    "from mmdet.datasets import (build_dataloader, build_dataset,\n",
    "                            replace_ImageToTensor)\n",
    "from mmdet.models import build_detector\n",
    "from mmdet.apis import single_gpu_test\n",
    "from mmcv.runner import load_checkpoint\n",
    "import os\n",
    "from mmcv.parallel import MMDataParallel\n",
    "import pandas as pd\n",
    "from pandas import DataFrame\n",
    "from pycocotools.coco import COCO\n",
    "import numpy as np\n",
    "from mmcv.runner import wrap_fp16_model\n",
    "import random\n",
    "import torch\n",
    "\n",
    "def seed_everything(seed: int = 42):\n",
    "    random.seed(seed)\n",
    "    np.random.seed(seed)\n",
    "    os.environ[\"PYTHONHASHSEED\"] = str(seed)\n",
    "    torch.manual_seed(seed)\n",
    "    torch.cuda.manual_seed(seed)  # type: ignore\n",
    "    torch.backends.cudnn.deterministic = True  # type: ignore\n",
    "    torch.backends.cudnn.benchmark = True  # type: ignore\n",
    "\n",
    "seed_everything()\n",
    "test_indice = random.sample(range(4871), 10)"
   ]
  },
  {
   "cell_type": "code",
   "execution_count": 6,
   "id": "8444d989",
   "metadata": {},
   "outputs": [],
   "source": [
    "# from numba import cuda \n",
    "# device = cuda.get_current_device()\n",
    "# device.reset()"
   ]
  },
  {
   "cell_type": "code",
   "execution_count": 40,
   "id": "edda58ea",
   "metadata": {},
   "outputs": [],
   "source": [
    "classes = (\"General trash\", \"Paper\", \"Paper pack\", \"Metal\", \"Glass\", \n",
    "           \"Plastic\", \"Styrofoam\", \"Plastic bag\", \"Battery\", \"Clothing\")\n",
    "\n",
    "# config file 들고오기\n",
    "cfg = Config.fromfile('/opt/ml/baseline/custom_configs/cascade_mask_rcnn_convnext/convext_large/cascade_mask_rcnn_convnext_large_fpn_giou_resize_square_relabeled.py')\n",
    "\n",
    "root='../../dataset/'\n",
    "\n",
    "epoch = 'epoch_36'\n",
    "\n",
    "# dataset config 수정\n",
    "cfg.data.test.test_mode = True\n",
    "cfg.data.samples_per_gpu = 8\n",
    "cfg.seed=42\n",
    "cfg.gpu_ids = [1]\n",
    "cfg.work_dir = \"/opt/ml/baseline/work_dir/cc_mrcnn_convnext_large_ms_relabeled\"\n",
    "cfg.model.train_cfg = None"
   ]
  },
  {
   "cell_type": "code",
   "execution_count": 41,
   "id": "0d5374cd",
   "metadata": {},
   "outputs": [],
   "source": [
    "cfg.data.test.pipeline[1].img_scale = [(768, 768), (896, 896), (1024, 1024), (2048, 2048)]"
   ]
  },
  {
   "cell_type": "code",
   "execution_count": 42,
   "id": "48e36010",
   "metadata": {},
   "outputs": [],
   "source": [
    "cfg.model.test_cfg.rcnn.nms.iou_threshold = 0.6\n",
    "cfg.model.test_cfg.rcnn.max_per_image = 1000\n",
    "cfg.model.test_cfg.rcnn.score_thr = 0.0005\n",
    "# cfg.model.test_cfg.rpn.nms.iou_threshold = 0.6"
   ]
  },
  {
   "cell_type": "code",
   "execution_count": 43,
   "id": "b086a8cf",
   "metadata": {},
   "outputs": [
    {
     "name": "stdout",
     "output_type": "stream",
     "text": [
      "loading annotations into memory...\n",
      "Done (t=0.01s)\n",
      "creating index...\n",
      "index created!\n"
     ]
    }
   ],
   "source": [
    "# build dataset & dataloader\n",
    "dataset = build_dataset(cfg.data.test)\n",
    "data_loader = build_dataloader(\n",
    "        dataset,\n",
    "        samples_per_gpu=1,\n",
    "        workers_per_gpu=cfg.data.workers_per_gpu,\n",
    "        dist=False,\n",
    "        shuffle=False)"
   ]
  },
  {
   "cell_type": "code",
   "execution_count": 44,
   "id": "27cf2ceb",
   "metadata": {},
   "outputs": [
    {
     "data": {
      "text/plain": [
       "('Battery',\n",
       " 'Clothing',\n",
       " 'General_trash',\n",
       " 'Glass',\n",
       " 'Metal',\n",
       " 'Paper',\n",
       " 'Paper_pack',\n",
       " 'Plastic',\n",
       " 'Plastic_bag',\n",
       " 'Styrofoam')"
      ]
     },
     "execution_count": 44,
     "metadata": {},
     "output_type": "execute_result"
    }
   ],
   "source": [
    "dataset.CLASSES"
   ]
  },
  {
   "cell_type": "code",
   "execution_count": 45,
   "id": "83b3eae6",
   "metadata": {},
   "outputs": [
    {
     "name": "stdout",
     "output_type": "stream",
     "text": [
      "load checkpoint from local path: /opt/ml/baseline/work_dir/cc_mrcnn_convnext_large_ms_relabeled/epoch_36.pth\n"
     ]
    }
   ],
   "source": [
    "# checkpoint path\n",
    "checkpoint_path = os.path.join(cfg.work_dir, f'{epoch}.pth')\n",
    "\n",
    "model = build_detector(cfg.model, test_cfg=cfg.get('test_cfg')) # build detector\n",
    "wrap_fp16_model(model)\n",
    "checkpoint = load_checkpoint(model, checkpoint_path, map_location='cpu') # ckpt load\n",
    "\n",
    "model.CLASSES = dataset.CLASSES\n",
    "model = MMDataParallel(model.cuda(), device_ids=[0])"
   ]
  },
  {
   "cell_type": "code",
   "execution_count": 46,
   "id": "c9f5c2bb",
   "metadata": {},
   "outputs": [
    {
     "name": "stdout",
     "output_type": "stream",
     "text": [
      "[>>>>>>>>>>>>>>>>>>>>>>>>>>] 4871/4871, 10.3 task/s, elapsed: 472s, ETA:     0s"
     ]
    }
   ],
   "source": [
    "output = single_gpu_test(model, data_loader, show_score_thr=0.0005) # output 계산"
   ]
  },
  {
   "cell_type": "code",
   "execution_count": 14,
   "id": "fcdf398e",
   "metadata": {},
   "outputs": [
    {
     "name": "stdout",
     "output_type": "stream",
     "text": [
      "\n",
      "Evaluating bbox...\n",
      "Loading and preparing results...\n",
      "DONE (t=0.43s)\n",
      "creating index...\n",
      "index created!\n",
      "Running per image evaluation...\n",
      "Evaluate annotation type *bbox*\n",
      "DONE (t=6.93s).\n",
      "Accumulating evaluation results...\n",
      "DONE (t=1.86s).\n",
      "\n",
      " Average Precision  (AP) @[ IoU=0.50:0.95 | area=   all | maxDets=100 ] = -1.000\n",
      " Average Precision  (AP) @[ IoU=0.50      | area=   all | maxDets=1000 ] = -1.000\n",
      " Average Precision  (AP) @[ IoU=0.75      | area=   all | maxDets=1000 ] = -1.000\n",
      " Average Precision  (AP) @[ IoU=0.50:0.95 | area= small | maxDets=1000 ] = -1.000\n",
      " Average Precision  (AP) @[ IoU=0.50:0.95 | area=medium | maxDets=1000 ] = -1.000\n",
      " Average Precision  (AP) @[ IoU=0.50:0.95 | area= large | maxDets=1000 ] = -1.000\n",
      " Average Recall     (AR) @[ IoU=0.50:0.95 | area=   all | maxDets=100 ] = -1.000\n",
      " Average Recall     (AR) @[ IoU=0.50:0.95 | area=   all | maxDets=300 ] = -1.000\n",
      " Average Recall     (AR) @[ IoU=0.50:0.95 | area=   all | maxDets=1000 ] = -1.000\n",
      " Average Recall     (AR) @[ IoU=0.50:0.95 | area= small | maxDets=1000 ] = -1.000\n",
      " Average Recall     (AR) @[ IoU=0.50:0.95 | area=medium | maxDets=1000 ] = -1.000\n",
      " Average Recall     (AR) @[ IoU=0.50:0.95 | area= large | maxDets=1000 ] = -1.000\n",
      "\n"
     ]
    }
   ],
   "source": [
    "eval_result = dataset.evaluate(output)"
   ]
  },
  {
   "cell_type": "code",
   "execution_count": 15,
   "id": "4ea50986",
   "metadata": {},
   "outputs": [
    {
     "data": {
      "text/plain": [
       "OrderedDict([('bbox_mAP', -1.0),\n",
       "             ('bbox_mAP_50', -1.0),\n",
       "             ('bbox_mAP_75', -1.0),\n",
       "             ('bbox_mAP_s', -1.0),\n",
       "             ('bbox_mAP_m', -1.0),\n",
       "             ('bbox_mAP_l', -1.0),\n",
       "             ('bbox_mAP_copypaste',\n",
       "              '-1.000 -1.000 -1.000 -1.000 -1.000 -1.000')])"
      ]
     },
     "execution_count": 15,
     "metadata": {},
     "output_type": "execute_result"
    }
   ],
   "source": [
    "eval_result"
   ]
  },
  {
   "cell_type": "code",
   "execution_count": 50,
   "id": "b8673696",
   "metadata": {},
   "outputs": [
    {
     "name": "stdout",
     "output_type": "stream",
     "text": [
      "loading annotations into memory...\n",
      "Done (t=0.01s)\n",
      "creating index...\n",
      "index created!\n"
     ]
    }
   ],
   "source": [
    "# submission 양식에 맞게 output 후처리\n",
    "prediction_strings = []\n",
    "file_names = []\n",
    "coco = COCO(cfg.data.test.ann_file)\n",
    "img_ids = coco.getImgIds()\n",
    "\n",
    "class_num = 10\n",
    "for i, out in enumerate(output):\n",
    "    prediction_string = ''\n",
    "    image_info = coco.loadImgs(coco.getImgIds(imgIds=i))[0]\n",
    "    for j in range(class_num):\n",
    "        for o in out[j]:\n",
    "            prediction_string += str(j) + ' ' + str(o[4]) + ' ' + str(o[0]) + ' ' + str(o[1]) + ' ' + str(\n",
    "                o[2]) + ' ' + str(o[3]) + ' '\n",
    "        \n",
    "    prediction_strings.append(prediction_string)\n",
    "    file_names.append(image_info['file_name'])\n",
    "\n",
    "\n",
    "submission = pd.DataFrame()\n",
    "submission['PredictionString'] = prediction_strings\n",
    "submission['image_id'] = file_names\n",
    "submission.to_csv(os.path.join(cfg.work_dir, f'cc_mrcnn_convnext_large_fpn_giou_relabeled_TTA_{epoch}.csv'), index=None)\n",
    "submission.head()"
   ]
  },
  {
   "cell_type": "code",
   "execution_count": 23,
   "id": "e1300553",
   "metadata": {},
   "outputs": [
    {
     "data": {
      "text/html": [
       "<div>\n",
       "<style scoped>\n",
       "    .dataframe tbody tr th:only-of-type {\n",
       "        vertical-align: middle;\n",
       "    }\n",
       "\n",
       "    .dataframe tbody tr th {\n",
       "        vertical-align: top;\n",
       "    }\n",
       "\n",
       "    .dataframe thead th {\n",
       "        text-align: right;\n",
       "    }\n",
       "</style>\n",
       "<table border=\"1\" class=\"dataframe\">\n",
       "  <thead>\n",
       "    <tr style=\"text-align: right;\">\n",
       "      <th></th>\n",
       "      <th>PredictionString</th>\n",
       "      <th>image_id</th>\n",
       "    </tr>\n",
       "  </thead>\n",
       "  <tbody>\n",
       "    <tr>\n",
       "      <th>0</th>\n",
       "      <td>0 0.014751938 371.52756 620.98773 391.3011 641...</td>\n",
       "      <td>test/0000.jpg</td>\n",
       "    </tr>\n",
       "    <tr>\n",
       "      <th>1</th>\n",
       "      <td>-1 0.0008013897 350.84436 249.5179 752.3004 69...</td>\n",
       "      <td>test/0001.jpg</td>\n",
       "    </tr>\n",
       "    <tr>\n",
       "      <th>2</th>\n",
       "      <td>-1 0.026546903 753.84314 235.70558 919.6193 32...</td>\n",
       "      <td>test/0002.jpg</td>\n",
       "    </tr>\n",
       "    <tr>\n",
       "      <th>3</th>\n",
       "      <td>8 0.998132 143.63788 263.73062 928.0228 814.30...</td>\n",
       "      <td>test/0003.jpg</td>\n",
       "    </tr>\n",
       "    <tr>\n",
       "      <th>4</th>\n",
       "      <td>-1 0.010676341 459.5907 409.808 660.946 551.17...</td>\n",
       "      <td>test/0004.jpg</td>\n",
       "    </tr>\n",
       "    <tr>\n",
       "      <th>...</th>\n",
       "      <td>...</td>\n",
       "      <td>...</td>\n",
       "    </tr>\n",
       "    <tr>\n",
       "      <th>4866</th>\n",
       "      <td>0 0.005335262 297.39987 346.13263 672.7805 688...</td>\n",
       "      <td>test/4866.jpg</td>\n",
       "    </tr>\n",
       "    <tr>\n",
       "      <th>4867</th>\n",
       "      <td>9 0.0043957303 610.3399 320.3145 781.1391 494....</td>\n",
       "      <td>test/4867.jpg</td>\n",
       "    </tr>\n",
       "    <tr>\n",
       "      <th>4868</th>\n",
       "      <td>9 0.0005019565 444.22235 455.38513 755.84985 8...</td>\n",
       "      <td>test/4868.jpg</td>\n",
       "    </tr>\n",
       "    <tr>\n",
       "      <th>4869</th>\n",
       "      <td>8 0.001668307 81.015396 499.18497 583.97754 82...</td>\n",
       "      <td>test/4869.jpg</td>\n",
       "    </tr>\n",
       "    <tr>\n",
       "      <th>4870</th>\n",
       "      <td>8 0.00080512406 375.25626 189.55867 631.2329 8...</td>\n",
       "      <td>test/4870.jpg</td>\n",
       "    </tr>\n",
       "  </tbody>\n",
       "</table>\n",
       "<p>4871 rows × 2 columns</p>\n",
       "</div>"
      ],
      "text/plain": [
       "                                       PredictionString       image_id\n",
       "0     0 0.014751938 371.52756 620.98773 391.3011 641...  test/0000.jpg\n",
       "1     -1 0.0008013897 350.84436 249.5179 752.3004 69...  test/0001.jpg\n",
       "2     -1 0.026546903 753.84314 235.70558 919.6193 32...  test/0002.jpg\n",
       "3     8 0.998132 143.63788 263.73062 928.0228 814.30...  test/0003.jpg\n",
       "4     -1 0.010676341 459.5907 409.808 660.946 551.17...  test/0004.jpg\n",
       "...                                                 ...            ...\n",
       "4866  0 0.005335262 297.39987 346.13263 672.7805 688...  test/4866.jpg\n",
       "4867  9 0.0043957303 610.3399 320.3145 781.1391 494....  test/4867.jpg\n",
       "4868  9 0.0005019565 444.22235 455.38513 755.84985 8...  test/4868.jpg\n",
       "4869  8 0.001668307 81.015396 499.18497 583.97754 82...  test/4869.jpg\n",
       "4870  8 0.00080512406 375.25626 189.55867 631.2329 8...  test/4870.jpg\n",
       "\n",
       "[4871 rows x 2 columns]"
      ]
     },
     "execution_count": 23,
     "metadata": {},
     "output_type": "execute_result"
    }
   ],
   "source": [
    "submission"
   ]
  },
  {
   "cell_type": "code",
   "execution_count": 15,
   "id": "979ff243",
   "metadata": {},
   "outputs": [],
   "source": [
    "COLORS = [tuple(map(int, np.random.choice(range(256), size=3))) for i in range(len(classes))]"
   ]
  },
  {
   "cell_type": "code",
   "execution_count": 55,
   "id": "7e25d053",
   "metadata": {},
   "outputs": [
    {
     "name": "stdout",
     "output_type": "stream",
     "text": [
      "loading annotations into memory...\n",
      "Done (t=0.01s)\n",
      "creating index...\n",
      "index created!\n"
     ]
    }
   ],
   "source": [
    "import cv2\n",
    "# submission 양식에 맞게 output 후처리\n",
    "\n",
    "test_vis_path = os.path.join(cfg.work_dir, \"test_images_tta\")\n",
    "if not os.path.exists(test_vis_path):\n",
    "    os.mkdir(test_vis_path)\n",
    "\n",
    "\n",
    "prediction_strings = []\n",
    "file_names = []\n",
    "coco = COCO(cfg.data.test.ann_file)\n",
    "img_ids = coco.getImgIds()\n",
    "\n",
    "class_num = 10\n",
    "for i in test_indice:\n",
    "    image_info = coco.loadImgs(coco.getImgIds(imgIds=i))[0]\n",
    "    image_path = os.path.join(root, image_info['file_name'])\n",
    "    img = cv2.imread(image_path)\n",
    "    for j in range(class_num):\n",
    "        for o in output[i][j]:\n",
    "            boxes = list(map(int, o[:4]))\n",
    "            cv2.rectangle(img, (boxes[0], boxes[1]), (boxes[2], boxes[3]), COLORS[j], 1)\n",
    "            cv2.putText(img, f\"{classes[j]}\", (boxes[0], boxes[1]-5), fontFace=0, fontScale=1, color=COLORS[j], thickness=3)\n",
    "            cv2.imwrite(os.path.join(test_vis_path, f\"{image_info['id']}.jpg\"), img)"
   ]
  },
  {
   "cell_type": "code",
   "execution_count": 69,
   "id": "c1529827",
   "metadata": {},
   "outputs": [
    {
     "data": {
      "text/plain": [
       "{'width': 1024,\n",
       " 'height': 1024,\n",
       " 'file_name': 'test/4238.jpg',\n",
       " 'license': 0,\n",
       " 'flickr_url': None,\n",
       " 'coco_url': None,\n",
       " 'date_captured': '2021-01-04 15:01:49',\n",
       " 'id': 4238}"
      ]
     },
     "execution_count": 69,
     "metadata": {},
     "output_type": "execute_result"
    }
   ],
   "source": [
    "image_info"
   ]
  },
  {
   "cell_type": "code",
   "execution_count": 93,
   "id": "1e05f465",
   "metadata": {},
   "outputs": [
    {
     "name": "stdout",
     "output_type": "stream",
     "text": [
      "loading annotations into memory...\n",
      "Done (t=0.01s)\n",
      "creating index...\n",
      "index created!\n"
     ]
    }
   ],
   "source": [
    "coco = COCO(\"/opt/ml/dataset/split_valid.json\")"
   ]
  },
  {
   "cell_type": "code",
   "execution_count": 94,
   "id": "8718a36a",
   "metadata": {},
   "outputs": [],
   "source": [
    "import shutil\n",
    "img_ids = coco.getImgIds()\n",
    "for id in img_ids:\n",
    "    info = coco.loadImgs(id)[0]\n",
    "    src = os.path.join(root, info['file_name'])\n",
    "    dst = os.path.join(\"/opt/ml/dataset/images/valid\", info['file_name'].split('/')[-1])\n",
    "    shutil.copy(src, dst)\n"
   ]
  },
  {
   "cell_type": "code",
   "execution_count": null,
   "id": "e1022b92",
   "metadata": {},
   "outputs": [],
   "source": []
  }
 ],
 "metadata": {
  "kernelspec": {
   "display_name": "Python 3 (ipykernel)",
   "language": "python",
   "name": "python3"
  },
  "language_info": {
   "codemirror_mode": {
    "name": "ipython",
    "version": 3
   },
   "file_extension": ".py",
   "mimetype": "text/x-python",
   "name": "python",
   "nbconvert_exporter": "python",
   "pygments_lexer": "ipython3",
   "version": "3.9.12"
  }
 },
 "nbformat": 4,
 "nbformat_minor": 5
}
