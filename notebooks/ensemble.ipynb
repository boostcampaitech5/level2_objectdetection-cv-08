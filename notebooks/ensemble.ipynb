{
 "cells": [
  {
   "attachments": {},
   "cell_type": "markdown",
   "metadata": {},
   "source": [
    "### Import"
   ]
  },
  {
   "cell_type": "code",
   "execution_count": 165,
   "metadata": {},
   "outputs": [],
   "source": [
    "import os\n",
    "import pickle\n",
    "import argparse\n",
    "import numpy as np\n",
    "import pandas as pd\n",
    "import time\n",
    "\n",
    "from tqdm import tqdm \n",
    "from collections import defaultdict\n",
    "\n",
    "# https://github.com/ZFTurbo/Weighted-Boxes-Fusion\n",
    "# pip install ensemble_boxes\n",
    "from ensemble_boxes import * "
   ]
  },
  {
   "cell_type": "code",
   "execution_count": 166,
   "metadata": {},
   "outputs": [
    {
     "name": "stdout",
     "output_type": "stream",
     "text": [
      "['faster-rcnn_r50_fpn_Fold3_submission.csv', 'faster-rcnn_r50_fpn_Fold4_submission.csv', 'faster-rcnn_r50_fpn_Fold5_submission.csv', 'faster-rcnn_r50_fpn_Fold1_submission.csv', 'faster-rcnn_r50_fpn_Fold2_submission.csv']\n"
     ]
    }
   ],
   "source": [
    "ensemble_output_dir = '/mmdetection/inference/ensembles/fast-rcnn_r50-KFold'\n",
    "\n",
    "ensemble_output_list = os.listdir(ensemble_output_dir)\n",
    "print(ensemble_output_list)"
   ]
  },
  {
   "cell_type": "code",
   "execution_count": 167,
   "metadata": {},
   "outputs": [
    {
     "name": "stdout",
     "output_type": "stream",
     "text": [
      "Null Index :  Int64Index([], dtype='int64')\n",
      "Null Index :  Int64Index([], dtype='int64')\n",
      "Null Index :  Int64Index([], dtype='int64')\n",
      "Null Index :  Int64Index([], dtype='int64')\n",
      "Null Index :  Int64Index([], dtype='int64')\n"
     ]
    }
   ],
   "source": [
    "fold_pd_list = []\n",
    "for idx, output in enumerate(ensemble_output_list):\n",
    "    with open(os.path.join(ensemble_output_dir, output), 'rb') as f:\n",
    "        data = pd.read_csv(f)\n",
    "    print('Null Index : ', data[data['PredictionString'].isnull()].index)\n",
    "    fold_pd_list.append(data)"
   ]
  },
  {
   "cell_type": "code",
   "execution_count": 168,
   "metadata": {},
   "outputs": [],
   "source": [
    "\"\"\"\n",
    "{ \"fold1\": { \"train/0000.jpg\": { \"bboxes\": [], \"labels\": [], \"scores\": [], } \"train/0001.jpg\": { ... } ... }, \n",
    "  \"fold1\": { \"train/0000.jpg\": { \"bboxes\": [], \"labels\": [], \"scores\": [], } \"train/0001.jpg\": { ... } ... }, ...}\n",
    "\"\"\"\n",
    "iou_thr = 0.5\n",
    "skip_box_thr = 0.0001\n",
    "weights = [1] * len(ensemble_output_list)\n",
    "\n",
    "csv_predictions = []\n",
    "for image_id in fold_pd_list[0]['image_id']:\n",
    "    labels_list, scores_list, bboxes_list = [], [], []\n",
    "        \n",
    "    for fold_pd in fold_pd_list:\n",
    "        labels, scores, bboxes = [], [], []\n",
    "        \n",
    "        predict = list(fold_pd[fold_pd['image_id']==image_id]['PredictionString'])[0]\n",
    "        predict = predict.strip().split(' ')\n",
    "        predict_list = [list(map(float, predict[i:i+6])) for i in range(0, len(predict), 6)] # 6개 단위로 묶기\n",
    "        \n",
    "        for predict_ in predict_list: # 한 이미지 내 label, score, bbox\n",
    "            label = predict_[0]\n",
    "            score = predict_[1]\n",
    "            bbox  = [predict_[2]/1024., predict_[3]/1024., predict_[4]/1024., predict_[5]/1024.]\n",
    "            \n",
    "            labels.append(label)\n",
    "            scores.append(score)\n",
    "            bboxes.append(bbox)\n",
    "\n",
    "        labels_list.append(labels)\n",
    "        scores_list.append(scores)\n",
    "        bboxes_list.append(bboxes)\n",
    "\n",
    "    # nms, soft-nms, weighted_boxes_fusion\n",
    "    bboxes, scores, labels = weighted_boxes_fusion(bboxes_list, scores_list, labels_list, weights=weights, iou_thr=iou_thr, skip_box_thr=skip_box_thr)\n",
    "    \n",
    "    predict = ''\n",
    "    for infos in zip(labels, scores, bboxes):\n",
    "        infos = list(infos)\n",
    "        \n",
    "        predict += str(int(infos[0])) + ' '\n",
    "        predict += str(infos[1]) + ' '\n",
    "        bbox = infos[2].tolist()\n",
    "        predict += str(bbox[0]*1024.) + ' ' + str(bbox[1]*1024.) + ' ' + str(bbox[2]*1024.) + ' ' + str(bbox[3]*1024.) + ' '\n",
    "\n",
    "    csv_predictions.append(predict)"
   ]
  },
  {
   "cell_type": "code",
   "execution_count": 169,
   "metadata": {},
   "outputs": [
    {
     "data": {
      "text/html": [
       "<div>\n",
       "<style scoped>\n",
       "    .dataframe tbody tr th:only-of-type {\n",
       "        vertical-align: middle;\n",
       "    }\n",
       "\n",
       "    .dataframe tbody tr th {\n",
       "        vertical-align: top;\n",
       "    }\n",
       "\n",
       "    .dataframe thead th {\n",
       "        text-align: right;\n",
       "    }\n",
       "</style>\n",
       "<table border=\"1\" class=\"dataframe\">\n",
       "  <thead>\n",
       "    <tr style=\"text-align: right;\">\n",
       "      <th></th>\n",
       "      <th>PredictionString</th>\n",
       "      <th>image_id</th>\n",
       "    </tr>\n",
       "  </thead>\n",
       "  <tbody>\n",
       "    <tr>\n",
       "      <th>0</th>\n",
       "      <td>7 0.9982357025146484 599.6793212890625 521.624...</td>\n",
       "      <td>test/0000.jpg</td>\n",
       "    </tr>\n",
       "    <tr>\n",
       "      <th>1</th>\n",
       "      <td>5 0.6400420665740967 343.70184326171875 244.21...</td>\n",
       "      <td>test/0001.jpg</td>\n",
       "    </tr>\n",
       "    <tr>\n",
       "      <th>2</th>\n",
       "      <td>1 0.8847388029098511 258.0965270996094 309.739...</td>\n",
       "      <td>test/0002.jpg</td>\n",
       "    </tr>\n",
       "    <tr>\n",
       "      <th>3</th>\n",
       "      <td>9 0.8334046006202698 78.46959686279297 153.520...</td>\n",
       "      <td>test/0003.jpg</td>\n",
       "    </tr>\n",
       "    <tr>\n",
       "      <th>4</th>\n",
       "      <td>0 0.41900140047073364 185.37600708007812 322.9...</td>\n",
       "      <td>test/0004.jpg</td>\n",
       "    </tr>\n",
       "  </tbody>\n",
       "</table>\n",
       "</div>"
      ],
      "text/plain": [
       "                                    PredictionString       image_id\n",
       "0  7 0.9982357025146484 599.6793212890625 521.624...  test/0000.jpg\n",
       "1  5 0.6400420665740967 343.70184326171875 244.21...  test/0001.jpg\n",
       "2  1 0.8847388029098511 258.0965270996094 309.739...  test/0002.jpg\n",
       "3  9 0.8334046006202698 78.46959686279297 153.520...  test/0003.jpg\n",
       "4  0 0.41900140047073364 185.37600708007812 322.9...  test/0004.jpg"
      ]
     },
     "execution_count": 169,
     "metadata": {},
     "output_type": "execute_result"
    }
   ],
   "source": [
    "submission = pd.DataFrame()\n",
    "submission['PredictionString'] = csv_predictions\n",
    "submission['image_id'] = fold_pd_list[0]['image_id']\n",
    "\n",
    "submission.to_csv(f'/mmdetection/inference/submission/ensemble_submission.csv', index=None)\n",
    "submission.head()"
   ]
  },
  {
   "cell_type": "code",
   "execution_count": null,
   "metadata": {},
   "outputs": [],
   "source": []
  }
 ],
 "metadata": {
  "kernelspec": {
   "display_name": "base",
   "language": "python",
   "name": "python3"
  },
  "language_info": {
   "codemirror_mode": {
    "name": "ipython",
    "version": 3
   },
   "file_extension": ".py",
   "mimetype": "text/x-python",
   "name": "python",
   "nbconvert_exporter": "python",
   "pygments_lexer": "ipython3",
   "version": "3.7.10"
  },
  "orig_nbformat": 4
 },
 "nbformat": 4,
 "nbformat_minor": 2
}
